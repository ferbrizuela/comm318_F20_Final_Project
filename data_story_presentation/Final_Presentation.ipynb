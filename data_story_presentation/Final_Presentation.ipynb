{
 "cells": [
  {
   "cell_type": "markdown",
   "metadata": {},
   "source": [
    "![](./Photo_Files/Title_Photo_Adorama.jpg)\n",
    "photo by [Adorama](https://www.adorama.com/alc/analog-vs-digital-audio/)"
   ]
  },
  {
   "cell_type": "markdown",
   "metadata": {},
   "source": [
    "# The Way We Listen to Music is Changing... And it Affects an Entire Industry\n",
    "## by Fernanda Brizuela\n",
    "\n",
    "I have always been an avid music listener. My Spotify playlists accompany me while I do chores, work on homework, take a five minute walk to the grocery store, or a five hour international flight to go back home. Music can make my happy moods happier, my sad moods sadder, and even be a reminder of my culture when I listen to Latin songs. Music is a part of my everyday life. \n",
    "\n",
    "In fact, music has always been a part of my life. However, I recently realized how much my experience listening to music has changed throughout the years. I came to this conclusion when I walked into my childhood bedroom (which I had to spend five months in thanks to quarantine) and noticed my old CD collection. \n",
    "\n",
    "I smiled as I looked through the discs that were almost scratched because of how much they played in my car—everything from One Direction to Taylor Swift when she was in her country phase. It has been _years_ since I bought a CD. \n",
    "\n",
    "My experience listening to music changed as I grew up. First, I would carry around a walkman. A couple years later, the first chunky iPod came into my life (it was my mom’s). I briefly went through a vinyl phase. Then I would beg my parents for iTunes gift cards to buy some of my favorite songs for ninety-nine cents. Finally, Spotify became my loyal companion. \n",
    "\n",
    "Looking at my album collection, I realized I didn’t own one of my current favorites (_[Fine Line](https://shopus.hstyles.co.uk/collections/fine-line-media/products/fine-line-cd)_ by Harry Styles—I would definitely recommend). I looked it up, just so I could own a physical copy, to find that it was fourteen dollars—forty in vinyl! All this money for an album that I can listen to, along with millions of other songs, for $4.99 a month with a student prime account on [Spotify](https://www.spotify.com/us/student/?utm_source=us-en_brand_contextual_text&utm_medium=paidsearch&utm_campaign=alwayson_ucanz_us_performancemarketing_student_brand+contextual+text+bmm+us-en+google&gclsrc=aw.ds&gclid=CjwKCAiA8ov_BRAoEiwAOZogwUWXpNC_W4hgQUAtgXBDl4iA2fS5ONMg55oqoO0F7DSTumVywJ01QxoCldwQAvD_BwE). \n",
    "\n",
    "The way we listen to music has changed, it has become more convenient in some ways. But there is a whole industry with millions of workers behind all of this... how have these changes affected them?\n",
    "\n",
    "To get an idea of the impact of these changes in music, we can look at data from the Recording Industry Association of America’s (RIAA) [U.S. sales database](https://www.riaa.com/u-s-sales-database/). The RIAA prides itself for being the “definitive source of revenue data for the recording industry in the United States.\" \n",
    "\n",
    "The RIAA’s database contains information dating back to 1973, with details about music sales in terms of volume (units sold) and revenue (dollars in millions). This data is then broken down even more to look at the impact of specific music formats, such as LP/EP’s, vinyls, CD’s, digital downloads, and streaming. \n",
    "\n",
    "First, let's look into how music sales in volume have changed throughout the years.\n"
   ]
  },
  {
   "cell_type": "markdown",
   "metadata": {},
   "source": [
    "![](./Photo_Files/Vol_Bar_Graph.png)"
   ]
  },
  {
   "cell_type": "markdown",
   "metadata": {},
   "source": [
    "_Chart by Fernanda Brizuela_ \\\n",
    "_source_ [RIAA](https://www.riaa.com/u-s-sales-database/)\n",
    "\n",
    "In the graph above, we can see the trends in music sales volumes since 1973 to 2019. Each bar represents a specific year, and the numbers on the left (y-axis) represent how many millions of units of music were sold. Each unit represents the sale of a music format, such as a CD. For example, 1973 saw a sale of approximately 600 Million units of music. \n",
    "\n",
    "This graph gives us a lot of helpful information, we can see different trends in sales volumes. The early 1980s is when music sales slowly began to rise, before they increased even more in the early 2000s. There were drops in 2008 and 2009 (presumably because of the economic recession) and then sales volumes began to drop dramatically. \n",
    "\n",
    "Even though this information gives us an idea of general trends in sales volumes, additional information—such as which music formats contributed to these sales—can give us a fuller picture. \n",
    "\n",
    "To look into this information, we will consider music formats to fall into three main categories (or \"Modes\"): Analog, Digital, and Streaming. \n",
    "\n",
    "According to [TechRepublic](https://www.techrepublic.com/article/analog-versus-digital-music-is-there-a-difference/): “Analog music represents the actual, continuous sound waves generated by the artists and their equipment.” So this category includes formats such as vinyls and cassettes. As for digital music, [they say](https://www.techrepublic.com/article/analog-versus-digital-music-is-there-a-difference/) it is “a COPY of analog music and it is not a continuous recording. Rather, the sounds are captured using samples.” This includes formats such as CDs and digital downloads. With streaming, we transmit music from platforms without actually downloading the song files, it entails no real ownership of the music—just the ability to listen to it.\n"
   ]
  },
  {
   "cell_type": "markdown",
   "metadata": {},
   "source": [
    "![](./Photo_Files/Vol_By_Mode.png)"
   ]
  },
  {
   "cell_type": "markdown",
   "metadata": {},
   "source": [
    "_Chart by Fernanda Brizuela_ \\\n",
    "_source_ [RIAA](https://www.riaa.com/u-s-sales-database/)"
   ]
  },
  {
   "cell_type": "markdown",
   "metadata": {},
   "source": [
    "The graph above looks at music sales volumes by Mode. It shows how many units were sold of each specific Mode throughout the years. The blue line represents Analog music formats, the orange represents Digital, and the green represents streaming. \n",
    "\n",
    "This graph helps explain some of the trends in the volume bar graph we looked at earlier. \n",
    "\n",
    "We had noted three main trends in sales volumes: sales volumes increased in the early 1980s, sales rose significantly in the early 2000s, and then they dropped dramatically in the 2010s. \n",
    "\n",
    "These trends can be explained by looking at Music Sales Volumes by Mode graph. For example, the rise in sales in the 80s can be explained by the fact that that was the year digital music was introduced. 1983 is when CDs first began to be sold. We also see a spike in digital sales after 2003 (corresponding to the rise in sales in the early 2000s), digital downloads became available in 2004 and rose in popularity after that.The availability of digital music downloads explains the spike in sales in the 2000s as music became more readily available and accessible. \n",
    "\n",
    "Even though streaming data isn’t available in the data representing music sales volumes (as sales volumes of streaming are not easily quantifiable since it entails no ownership of the music) it’s likely that streaming is the reason sales have reached a record low—even lower than 1973. With streaming, people no longer have to own the music they listen to. Instead of buying a “unit” of music, they can pay for a subscription, which is not accounted for in music sales volume data. \n",
    "\n",
    "The data suggests that as music became more accessible, sales in terms of volume skyrocketed. Additionally, the prevalence of digital downloads did more than just increase sales volume; digital downloads changed the way people interacted with music. \n",
    "\n",
    "Take the purchase of entire albums as opposed to singles, for example. \n"
   ]
  },
  {
   "cell_type": "markdown",
   "metadata": {},
   "source": [
    "![](./Photo_Files/Album_Sales.png) ![](./Photo_Files/Single_Sales.png)"
   ]
  },
  {
   "cell_type": "markdown",
   "metadata": {},
   "source": [
    "_Charts by Fernanda Brizuela_ \\\n",
    "_source_ [RIAA](https://www.riaa.com/u-s-sales-database/)"
   ]
  },
  {
   "cell_type": "markdown",
   "metadata": {},
   "source": [
    "The graphs above represent sales volumes in full musical albums as opposed to singles. The graph on the top represents physical CD sales compared to Download Album sales. The graph below represent CD Single sales compared to Download Single sales. In both graphs, the green line represents the physical sale of a CD whereas the blue line represents a digital download.\n",
    "\n",
    "As you can see, the Album graph shows that physical CD albums were purchased more than digital Download Albums. The opposite is true for the graph below, digital download singles were purchased more than physical CD singles. \n",
    "\n",
    "When CDs were the most prevalent formats, people bought entire albums. As digital downloads became more popular, people opted for buying individual songs instead of full albums. With digital downloads, people can pick and choose the songs they want to purchase off of an album, no longer having to purchase an entire album to listen to a couple of songs they enjoy. As digital downloads became the most popular format, most of these sales came from individual songs. \n",
    "\n",
    "Even though music sales in terms of volume are good indicators of what’s going on and overall trends, we’re missing something important—the money!\n",
    "\n",
    "What is happening to revenues now that we went from buying ten dollar albums, to ninety-nine cent songs, to paying five dollars for millions of songs a month? Let’s look into it."
   ]
  },
  {
   "cell_type": "markdown",
   "metadata": {},
   "source": [
    "![](./Photo_Files/Rev_Bar_Graph.png)"
   ]
  },
  {
   "cell_type": "markdown",
   "metadata": {},
   "source": [
    "_Chart by Fernanda Brizuela_ \\\n",
    "_source_ [RIAA](https://www.riaa.com/u-s-sales-database/)"
   ]
  },
  {
   "cell_type": "markdown",
   "metadata": {},
   "source": [
    "The graph above represents music revenues, each bar represents an individual year, and the numbers to the side (y-axis) represent the amount of revenue in millions of dollars. The revenue trends seem to tell a different story than the volume trends in terms of success. When looking at the sales volumes trends, it can be easy to think that because the industry is selling more units, then it's doing better. But we have to look into revenues. It’s important to note that the data used to analyze revenue is adjusted for inflation.\n",
    "\n",
    "In the graph above, revenues started increasing in the early 1980s, they rose steadily, reached a peak in the late 1990s, and then steadily declined. Even though revenues in 2019 are lower than 1973, it seems like revenues started to  increase in 2015. These increases seem steadier than other increasing trends in the past. \n",
    "\n",
    "Similar to the volume data, however, it’s important to look into our different modes.\n"
   ]
  },
  {
   "cell_type": "markdown",
   "metadata": {},
   "source": [
    "![](./Photo_Files/Rev_By_Mode.png)"
   ]
  },
  {
   "cell_type": "markdown",
   "metadata": {},
   "source": [
    "_Chart by Fernanda Brizuela_ \\\n",
    "_source_ [RIAA](https://www.riaa.com/u-s-sales-database/)"
   ]
  },
  {
   "cell_type": "markdown",
   "metadata": {},
   "source": [
    "As opposed to sales in volume, which slightly increased when CDs came into the market, the introduction of CDs caused revenues to rise significantly. Revenue continued to rise until the early 2000s. 2003, which is the year when sales volume rose even higher because of digital downloads, is precisely when revenues started to fall. \n",
    "\n",
    "Digital downloads contributed greatly to music sales in terms of volume. People didn’t have to go to the store or order anything physical, they could buy their favorite songs online, giving them access to millions of files. However, they didn’t contribute as much to revenues. \n",
    "\n",
    "Looking at the revenue bar graph we saw earlier, the rise in revenue starting in the early 2013s coincides with a rise in streaming revenue. As shown above, after 2015 streaming surpassed digital in being the mode that contributes the most money to music sales revenue. \n",
    "\n",
    "Clearly, the way we listen to music has changed. Even though this changes our daily lives in some ways, it greatly economically impacts an industry with millions of creators. \n",
    "\n",
    "With the rise of digital music and streaming, artists can now get their music to more people than ever… while earning less money than ever. Even though artists make music for a living, the actual sale of their songs is what's making them less money. According to [Business Insider](https://www.businessinsider.com/how-do-musicians-make-money-2018-10?r=MX&IR=T), most of artists earnings now come from other avenues, such as touring and merchandising. Music sales and streaming only contribute a small percentage.\n",
    "\n",
    "Despite all these changes in an industry that impacts so many, the music industry will continue to develop. New technologies will turn into new ways of experiencing our favorite songs. These changes are exciting, but also greatly impact things we might not even take into consideration. In the meantime, keep listening to the music that makes you dance—I’ll be listening to my new _Fine Line_ CD. \n"
   ]
  }
 ],
 "metadata": {
  "kernelspec": {
   "display_name": "Python 3",
   "language": "python",
   "name": "python3"
  },
  "language_info": {
   "codemirror_mode": {
    "name": "ipython",
    "version": 3
   },
   "file_extension": ".py",
   "mimetype": "text/x-python",
   "name": "python",
   "nbconvert_exporter": "python",
   "pygments_lexer": "ipython3",
   "version": "3.7.3"
  }
 },
 "nbformat": 4,
 "nbformat_minor": 2
}
