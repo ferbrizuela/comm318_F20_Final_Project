{
 "cells": [
  {
   "cell_type": "code",
   "execution_count": 1,
   "metadata": {},
   "outputs": [],
   "source": [
    "import pandas as pd\n",
    "import warnings \n",
    "warnings.filterwarnings('ignore')"
   ]
  },
  {
   "cell_type": "code",
   "execution_count": 2,
   "metadata": {},
   "outputs": [],
   "source": [
    "volume_df = pd.read_csv('../../data/Old_Data/Music_Sales_Volume_Data.csv')"
   ]
  },
  {
   "cell_type": "markdown",
   "metadata": {},
   "source": [
    "## Early analysis with old data."
   ]
  },
  {
   "cell_type": "code",
   "execution_count": 3,
   "metadata": {},
   "outputs": [
    {
     "name": "stdout",
     "output_type": "stream",
     "text": [
      "There are 261 rows and 16 columns in the Music Sales (Volume) data frame\n"
     ]
    }
   ],
   "source": [
    "volume_df.shape\n",
    "volume_nrows = volume_df.shape[0]\n",
    "volume_ncols = volume_df.shape[1]\n",
    "\n",
    "volume_nrows, volume_ncols = volume_df.shape\n",
    "\n",
    "print(f'There are {volume_nrows} rows and {volume_ncols} columns in the Music Sales (Volume) data frame')"
   ]
  },
  {
   "cell_type": "code",
   "execution_count": 4,
   "metadata": {},
   "outputs": [
    {
     "data": {
      "text/html": [
       "<div>\n",
       "<style scoped>\n",
       "    .dataframe tbody tr th:only-of-type {\n",
       "        vertical-align: middle;\n",
       "    }\n",
       "\n",
       "    .dataframe tbody tr th {\n",
       "        vertical-align: top;\n",
       "    }\n",
       "\n",
       "    .dataframe thead th {\n",
       "        text-align: right;\n",
       "    }\n",
       "</style>\n",
       "<table border=\"1\" class=\"dataframe\">\n",
       "  <thead>\n",
       "    <tr style=\"text-align: right;\">\n",
       "      <th></th>\n",
       "      <th>Year of Year Date</th>\n",
       "      <th>Format</th>\n",
       "      <th>Format (copy)</th>\n",
       "      <th>Metric</th>\n",
       "      <th>Value (Actual)</th>\n",
       "      <th>Adjusted for Inflation Flag</th>\n",
       "      <th>Year</th>\n",
       "      <th>Year Date</th>\n",
       "      <th>% of Total Volume</th>\n",
       "      <th>Format Value # (Billion)</th>\n",
       "      <th>Format Value # (Million)</th>\n",
       "      <th>Total Value # (Billion)</th>\n",
       "      <th>Total Value # (Million)</th>\n",
       "      <th>Total Value For Year</th>\n",
       "      <th>Value (Actual) (copy)</th>\n",
       "      <th>Year (copy)</th>\n",
       "    </tr>\n",
       "  </thead>\n",
       "  <tbody>\n",
       "    <tr>\n",
       "      <th>0</th>\n",
       "      <td>2000</td>\n",
       "      <td>CD</td>\n",
       "      <td>CD</td>\n",
       "      <td>Units</td>\n",
       "      <td>942.500000</td>\n",
       "      <td>NaN</td>\n",
       "      <td>2000</td>\n",
       "      <td>2000</td>\n",
       "      <td>87.3%</td>\n",
       "      <td>NaN</td>\n",
       "      <td>$942.5M</td>\n",
       "      <td>1.1B</td>\n",
       "      <td>NaN</td>\n",
       "      <td>$1079.2B</td>\n",
       "      <td>$943M</td>\n",
       "      <td>2000</td>\n",
       "    </tr>\n",
       "    <tr>\n",
       "      <th>1</th>\n",
       "      <td>2001</td>\n",
       "      <td>CD</td>\n",
       "      <td>CD</td>\n",
       "      <td>Units</td>\n",
       "      <td>881.900000</td>\n",
       "      <td>NaN</td>\n",
       "      <td>2001</td>\n",
       "      <td>2001</td>\n",
       "      <td>91.1%</td>\n",
       "      <td>NaN</td>\n",
       "      <td>$881.9M</td>\n",
       "      <td>NaN</td>\n",
       "      <td>$968.5M</td>\n",
       "      <td>$968.5B</td>\n",
       "      <td>$882M</td>\n",
       "      <td>2001</td>\n",
       "    </tr>\n",
       "    <tr>\n",
       "      <th>2</th>\n",
       "      <td>2002</td>\n",
       "      <td>CD</td>\n",
       "      <td>CD</td>\n",
       "      <td>Units</td>\n",
       "      <td>803.300000</td>\n",
       "      <td>NaN</td>\n",
       "      <td>2002</td>\n",
       "      <td>2002</td>\n",
       "      <td>93.4%</td>\n",
       "      <td>NaN</td>\n",
       "      <td>$803.3M</td>\n",
       "      <td>NaN</td>\n",
       "      <td>$859.7M</td>\n",
       "      <td>$859.7B</td>\n",
       "      <td>$803M</td>\n",
       "      <td>2002</td>\n",
       "    </tr>\n",
       "    <tr>\n",
       "      <th>3</th>\n",
       "      <td>2003</td>\n",
       "      <td>CD</td>\n",
       "      <td>CD</td>\n",
       "      <td>Units</td>\n",
       "      <td>746.000000</td>\n",
       "      <td>NaN</td>\n",
       "      <td>2003</td>\n",
       "      <td>2003</td>\n",
       "      <td>93.4%</td>\n",
       "      <td>NaN</td>\n",
       "      <td>$746.0M</td>\n",
       "      <td>NaN</td>\n",
       "      <td>$798.4M</td>\n",
       "      <td>$798.4B</td>\n",
       "      <td>$746M</td>\n",
       "      <td>2003</td>\n",
       "    </tr>\n",
       "    <tr>\n",
       "      <th>4</th>\n",
       "      <td>2004</td>\n",
       "      <td>CD</td>\n",
       "      <td>CD</td>\n",
       "      <td>Units</td>\n",
       "      <td>767.000000</td>\n",
       "      <td>NaN</td>\n",
       "      <td>2004</td>\n",
       "      <td>2004</td>\n",
       "      <td>80.1%</td>\n",
       "      <td>NaN</td>\n",
       "      <td>$767.0M</td>\n",
       "      <td>NaN</td>\n",
       "      <td>$958.1M</td>\n",
       "      <td>$958.1B</td>\n",
       "      <td>$767M</td>\n",
       "      <td>2004</td>\n",
       "    </tr>\n",
       "    <tr>\n",
       "      <th>...</th>\n",
       "      <td>...</td>\n",
       "      <td>...</td>\n",
       "      <td>...</td>\n",
       "      <td>...</td>\n",
       "      <td>...</td>\n",
       "      <td>...</td>\n",
       "      <td>...</td>\n",
       "      <td>...</td>\n",
       "      <td>...</td>\n",
       "      <td>...</td>\n",
       "      <td>...</td>\n",
       "      <td>...</td>\n",
       "      <td>...</td>\n",
       "      <td>...</td>\n",
       "      <td>...</td>\n",
       "      <td>...</td>\n",
       "    </tr>\n",
       "    <tr>\n",
       "      <th>256</th>\n",
       "      <td>2015</td>\n",
       "      <td>Ringtones &amp; Ringbacks</td>\n",
       "      <td>Ringtones &amp; Ringbacks</td>\n",
       "      <td>Units</td>\n",
       "      <td>21.924866</td>\n",
       "      <td>NaN</td>\n",
       "      <td>2015</td>\n",
       "      <td>2015</td>\n",
       "      <td>1.7%</td>\n",
       "      <td>NaN</td>\n",
       "      <td>$21.9M</td>\n",
       "      <td>1.3B</td>\n",
       "      <td>NaN</td>\n",
       "      <td>$1255.5B</td>\n",
       "      <td>$22M</td>\n",
       "      <td>2015</td>\n",
       "    </tr>\n",
       "    <tr>\n",
       "      <th>257</th>\n",
       "      <td>2016</td>\n",
       "      <td>Ringtones &amp; Ringbacks</td>\n",
       "      <td>Ringtones &amp; Ringbacks</td>\n",
       "      <td>Units</td>\n",
       "      <td>22.620785</td>\n",
       "      <td>NaN</td>\n",
       "      <td>2016</td>\n",
       "      <td>2016</td>\n",
       "      <td>2.3%</td>\n",
       "      <td>NaN</td>\n",
       "      <td>$22.6M</td>\n",
       "      <td>NaN</td>\n",
       "      <td>$970.1M</td>\n",
       "      <td>$970.1B</td>\n",
       "      <td>$23M</td>\n",
       "      <td>2016</td>\n",
       "    </tr>\n",
       "    <tr>\n",
       "      <th>258</th>\n",
       "      <td>2017</td>\n",
       "      <td>Ringtones &amp; Ringbacks</td>\n",
       "      <td>Ringtones &amp; Ringbacks</td>\n",
       "      <td>Units</td>\n",
       "      <td>14.262870</td>\n",
       "      <td>NaN</td>\n",
       "      <td>2017</td>\n",
       "      <td>2017</td>\n",
       "      <td>1.9%</td>\n",
       "      <td>NaN</td>\n",
       "      <td>$14.3M</td>\n",
       "      <td>NaN</td>\n",
       "      <td>$742.6M</td>\n",
       "      <td>$742.6B</td>\n",
       "      <td>$14M</td>\n",
       "      <td>2017</td>\n",
       "    </tr>\n",
       "    <tr>\n",
       "      <th>259</th>\n",
       "      <td>2018</td>\n",
       "      <td>Ringtones &amp; Ringbacks</td>\n",
       "      <td>Ringtones &amp; Ringbacks</td>\n",
       "      <td>Units</td>\n",
       "      <td>10.026287</td>\n",
       "      <td>NaN</td>\n",
       "      <td>2018</td>\n",
       "      <td>2018</td>\n",
       "      <td>1.9%</td>\n",
       "      <td>NaN</td>\n",
       "      <td>$10.0M</td>\n",
       "      <td>NaN</td>\n",
       "      <td>$532.3M</td>\n",
       "      <td>$532.3B</td>\n",
       "      <td>$10M</td>\n",
       "      <td>2018</td>\n",
       "    </tr>\n",
       "    <tr>\n",
       "      <th>260</th>\n",
       "      <td>2019</td>\n",
       "      <td>Ringtones &amp; Ringbacks</td>\n",
       "      <td>Ringtones &amp; Ringbacks</td>\n",
       "      <td>Units</td>\n",
       "      <td>8.605770</td>\n",
       "      <td>NaN</td>\n",
       "      <td>2019</td>\n",
       "      <td>2019</td>\n",
       "      <td>1.9%</td>\n",
       "      <td>NaN</td>\n",
       "      <td>$8.6M</td>\n",
       "      <td>NaN</td>\n",
       "      <td>$453.3M</td>\n",
       "      <td>$453.3B</td>\n",
       "      <td>$9M</td>\n",
       "      <td>2019</td>\n",
       "    </tr>\n",
       "  </tbody>\n",
       "</table>\n",
       "<p>261 rows × 16 columns</p>\n",
       "</div>"
      ],
      "text/plain": [
       "     Year of Year Date                 Format          Format (copy) Metric  \\\n",
       "0                 2000                     CD                     CD  Units   \n",
       "1                 2001                     CD                     CD  Units   \n",
       "2                 2002                     CD                     CD  Units   \n",
       "3                 2003                     CD                     CD  Units   \n",
       "4                 2004                     CD                     CD  Units   \n",
       "..                 ...                    ...                    ...    ...   \n",
       "256               2015  Ringtones & Ringbacks  Ringtones & Ringbacks  Units   \n",
       "257               2016  Ringtones & Ringbacks  Ringtones & Ringbacks  Units   \n",
       "258               2017  Ringtones & Ringbacks  Ringtones & Ringbacks  Units   \n",
       "259               2018  Ringtones & Ringbacks  Ringtones & Ringbacks  Units   \n",
       "260               2019  Ringtones & Ringbacks  Ringtones & Ringbacks  Units   \n",
       "\n",
       "     Value (Actual)  Adjusted for Inflation Flag  Year  Year Date  \\\n",
       "0        942.500000                          NaN  2000       2000   \n",
       "1        881.900000                          NaN  2001       2001   \n",
       "2        803.300000                          NaN  2002       2002   \n",
       "3        746.000000                          NaN  2003       2003   \n",
       "4        767.000000                          NaN  2004       2004   \n",
       "..              ...                          ...   ...        ...   \n",
       "256       21.924866                          NaN  2015       2015   \n",
       "257       22.620785                          NaN  2016       2016   \n",
       "258       14.262870                          NaN  2017       2017   \n",
       "259       10.026287                          NaN  2018       2018   \n",
       "260        8.605770                          NaN  2019       2019   \n",
       "\n",
       "    % of Total Volume Format Value # (Billion) Format Value # (Million)  \\\n",
       "0               87.3%                      NaN                  $942.5M   \n",
       "1               91.1%                      NaN                  $881.9M   \n",
       "2               93.4%                      NaN                  $803.3M   \n",
       "3               93.4%                      NaN                  $746.0M   \n",
       "4               80.1%                      NaN                  $767.0M   \n",
       "..                ...                      ...                      ...   \n",
       "256              1.7%                      NaN                   $21.9M   \n",
       "257              2.3%                      NaN                   $22.6M   \n",
       "258              1.9%                      NaN                   $14.3M   \n",
       "259              1.9%                      NaN                   $10.0M   \n",
       "260              1.9%                      NaN                    $8.6M   \n",
       "\n",
       "    Total Value # (Billion) Total Value # (Million) Total Value For Year  \\\n",
       "0                      1.1B                     NaN             $1079.2B   \n",
       "1                       NaN                 $968.5M              $968.5B   \n",
       "2                       NaN                 $859.7M              $859.7B   \n",
       "3                       NaN                 $798.4M              $798.4B   \n",
       "4                       NaN                 $958.1M              $958.1B   \n",
       "..                      ...                     ...                  ...   \n",
       "256                    1.3B                     NaN             $1255.5B   \n",
       "257                     NaN                 $970.1M              $970.1B   \n",
       "258                     NaN                 $742.6M              $742.6B   \n",
       "259                     NaN                 $532.3M              $532.3B   \n",
       "260                     NaN                 $453.3M              $453.3B   \n",
       "\n",
       "    Value (Actual) (copy)  Year (copy)  \n",
       "0                   $943M         2000  \n",
       "1                   $882M         2001  \n",
       "2                   $803M         2002  \n",
       "3                   $746M         2003  \n",
       "4                   $767M         2004  \n",
       "..                    ...          ...  \n",
       "256                  $22M         2015  \n",
       "257                  $23M         2016  \n",
       "258                  $14M         2017  \n",
       "259                  $10M         2018  \n",
       "260                   $9M         2019  \n",
       "\n",
       "[261 rows x 16 columns]"
      ]
     },
     "execution_count": 4,
     "metadata": {},
     "output_type": "execute_result"
    }
   ],
   "source": [
    "volume_df"
   ]
  },
  {
   "cell_type": "code",
   "execution_count": 5,
   "metadata": {},
   "outputs": [
    {
     "data": {
      "text/plain": [
       "Index(['Year of Year Date', 'Format', 'Format (copy)', 'Metric',\n",
       "       'Value (Actual)', 'Adjusted for Inflation Flag', 'Year', 'Year Date',\n",
       "       '% of Total Volume', 'Format Value # (Billion)',\n",
       "       'Format Value # (Million)', 'Total Value # (Billion)',\n",
       "       'Total Value # (Million)', 'Total Value For Year',\n",
       "       'Value (Actual) (copy)', 'Year (copy)'],\n",
       "      dtype='object')"
      ]
     },
     "execution_count": 5,
     "metadata": {},
     "output_type": "execute_result"
    }
   ],
   "source": [
    "volume_df.columns"
   ]
  },
  {
   "cell_type": "markdown",
   "metadata": {},
   "source": [
    "### Observations\n",
    "\n",
    "* Names of the columns are repeated, some need to be renamed. \n",
    "* Need to clean up data in terms of columns. \n",
    "* The rows seem to be related to format, shows different formats and the year they were sold. \n",
    "* When cleaning up data, delete columns 'Year of Year Date','Format (copy)', 'Value(Actual)' (will probably be easier to use the values in Value(Actual)(Copy), and 'Year (copy)'."
   ]
  },
  {
   "cell_type": "code",
   "execution_count": 6,
   "metadata": {},
   "outputs": [
    {
     "data": {
      "text/plain": [
       "2009    16\n",
       "2010    16\n",
       "2005    16\n",
       "2006    16\n",
       "2007    16\n",
       "2008    16\n",
       "2011    16\n",
       "2004    13\n",
       "2018    12\n",
       "2019    12\n",
       "2012    12\n",
       "2013    12\n",
       "2014    12\n",
       "2015    12\n",
       "2016    12\n",
       "2017    12\n",
       "2003    11\n",
       "2002    10\n",
       "2001    10\n",
       "2000     9\n",
       "Name: Year, dtype: int64"
      ]
     },
     "execution_count": 6,
     "metadata": {},
     "output_type": "execute_result"
    }
   ],
   "source": [
    "volume_df['Year'].value_counts()"
   ]
  },
  {
   "cell_type": "markdown",
   "metadata": {},
   "source": [
    "### Observations\n",
    "\n",
    "* This seems to be the number of music formats each year, it's interesting to see how the numbers change. It's noticeable that in the early 2000s there were less formats. Then there were a couple of years in which there could be a crossover, when old formats were still not obsolete but new formats were beginning to be used. Then in the later years the number of formats dips down again a little bit. "
   ]
  },
  {
   "cell_type": "code",
   "execution_count": 7,
   "metadata": {},
   "outputs": [
    {
     "data": {
      "text/plain": [
       "LP/EP                     20\n",
       "Music Video (Physical)    20\n",
       "CD Single                 20\n",
       "CD                        20\n",
       "Vinyl Single              20\n",
       "DVD Audio                 19\n",
       "SACD                      17\n",
       "Download Album            16\n",
       "Download Single           16\n",
       "Kiosk                     15\n",
       "Ringtones & Ringbacks     15\n",
       "Download Music Video      15\n",
       "Cassette                  12\n",
       "Cassette Single           12\n",
       "Other Tapes               12\n",
       "8 - Track                 12\n",
       "Name: Format, dtype: int64"
      ]
     },
     "execution_count": 7,
     "metadata": {},
     "output_type": "execute_result"
    }
   ],
   "source": [
    "volume_df['Format'].value_counts()"
   ]
  },
  {
   "cell_type": "code",
   "execution_count": 8,
   "metadata": {},
   "outputs": [
    {
     "data": {
      "text/plain": [
       "(20, 16)"
      ]
     },
     "execution_count": 8,
     "metadata": {},
     "output_type": "execute_result"
    }
   ],
   "source": [
    "cd_filter = volume_df['Format']=='CD'\n",
    "\n",
    "cd_sales_df = volume_df[cd_filter]\n",
    "cd_sales_df.shape"
   ]
  },
  {
   "cell_type": "code",
   "execution_count": 9,
   "metadata": {},
   "outputs": [
    {
     "data": {
      "text/plain": [
       "<AxesSubplot:xlabel='Year'>"
      ]
     },
     "execution_count": 9,
     "metadata": {},
     "output_type": "execute_result"
    }
   ],
   "source": [
    "cd_sales_df[['Year', 'Value (Actual)']].plot(   x='Year',\n",
    "                                                y='Value (Actual)')"
   ]
  },
  {
   "cell_type": "code",
   "execution_count": 10,
   "metadata": {},
   "outputs": [
    {
     "data": {
      "text/plain": [
       "<AxesSubplot:xlabel='Year'>"
      ]
     },
     "execution_count": 10,
     "metadata": {},
     "output_type": "execute_result"
    },
    {
     "data": {
      "image/png": "[encoded data removed]",
      "text/plain": [
       "<Figure size 432x288 with 1 Axes>"
      ]
     },
     "metadata": {
      "needs_background": "light"
     },
     "output_type": "display_data"
    }
   ],
   "source": [
    "download_album_filter = volume_df['Format']=='Download Album'\n",
    "\n",
    "download_album_sales_df = volume_df[download_album_filter]\n",
    "download_album_sales_df.shape\n",
    "download_album_sales_df[['Year', 'Value (Actual)']].plot(   x='Year',\n",
    "                                                y='Value (Actual)')"
   ]
  },
  {
   "cell_type": "code",
   "execution_count": 11,
   "metadata": {},
   "outputs": [
    {
     "data": {
      "text/plain": [
       "<AxesSubplot:xlabel='Year'>"
      ]
     },
     "execution_count": 11,
     "metadata": {},
     "output_type": "execute_result"
    },
    {
     "data": {
      "image/png": "[encoded data removed]",
      "text/plain": [
       "<Figure size 432x288 with 1 Axes>"
      ]
     },
     "metadata": {
      "needs_background": "light"
     },
     "output_type": "display_data"
    }
   ],
   "source": [
    "download_single_filter = volume_df['Format']=='Download Single'\n",
    "\n",
    "download_single_sales_df = volume_df[download_album_filter]\n",
    "download_single_sales_df.shape\n",
    "download_single_sales_df[['Year', 'Value (Actual)']].plot(   x='Year',\n",
    "                                                y='Value (Actual)')"
   ]
  },
  {
   "cell_type": "markdown",
   "metadata": {},
   "source": [
    "### Observations\n",
    "\n",
    "* There was a spike in sales that were digital in nature in the 2010s, however, sales are still on the decrease overall \n",
    "* Other formats such as CDs are decreasing dramatically in sales\n",
    "* I'm thinking the decrease in sales, even digital, may be due to a rise in streaming services. Streaming doesn't seem to be included in this chart, perhaps because streams don't constitute as sales. \n",
    "\n",
    "Maybe I should look for streaming data and see how that has changed music consumption instead of comparing sales in volume vs. revenue?"
   ]
  },
  {
   "cell_type": "code",
   "execution_count": null,
   "metadata": {},
   "outputs": [],
   "source": []
  }
 ],
 "metadata": {
  "kernelspec": {
   "display_name": "Python 3",
   "language": "python",
   "name": "python3"
  },
  "language_info": {
   "codemirror_mode": {
    "name": "ipython",
    "version": 3
   },
   "file_extension": ".py",
   "mimetype": "text/x-python",
   "name": "python",
   "nbconvert_exporter": "python",
   "pygments_lexer": "ipython3",
   "version": "3.7.3"
  }
 },
 "nbformat": 4,
 "nbformat_minor": 2
}
