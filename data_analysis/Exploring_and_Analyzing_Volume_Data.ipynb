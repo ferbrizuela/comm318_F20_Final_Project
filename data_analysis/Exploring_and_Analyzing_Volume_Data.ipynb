{
 "cells": [
  {
   "cell_type": "code",
   "execution_count": 1,
   "metadata": {},
   "outputs": [],
   "source": [
    "import pandas as pd\n",
    "import matplotlib.pyplot as plt\n",
    "import warnings \n",
    "warnings.filterwarnings('ignore')"
   ]
  },
  {
   "cell_type": "code",
   "execution_count": 2,
   "metadata": {},
   "outputs": [],
   "source": [
    "music_sales_df = pd.read_csv('../data/Usable_Data/Usable_Music_Sales_Data.csv')"
   ]
  },
  {
   "cell_type": "markdown",
   "metadata": {},
   "source": [
    "## Exploring and Analyzing Volume data. \n",
    "\n",
    "In this notebook, I will create a filter to only Analyze data that pertains to music sales in terms of _volume_. I will create visuals to look at volume trends from 1973 to 2019. I will also look at these trends in terms of \"Mode\", so looking at sales volumes specifically from formats that are Analog, Digital, and Streaming."
   ]
  },
  {
   "cell_type": "code",
   "execution_count": 3,
   "metadata": {},
   "outputs": [
    {
     "data": {
      "text/plain": [
       "(900, 5)"
      ]
     },
     "execution_count": 3,
     "metadata": {},
     "output_type": "execute_result"
    }
   ],
   "source": [
    "music_sales_df.shape"
   ]
  },
  {
   "cell_type": "markdown",
   "metadata": {},
   "source": [
    "#### The Metric column indicates whether the data corresponds to sales in terms of volume (Units) or revenue (Value Adjusted for Inflation). So for volume we're going to focus only on the rows with 'Units' under the Metric column. \n",
    "\n",
    "#### In this case, the values in Actual_Value represent units sold."
   ]
  },
  {
   "cell_type": "code",
   "execution_count": 4,
   "metadata": {},
   "outputs": [],
   "source": [
    "volume_df = music_sales_df[music_sales_df['Metric']=='Units']"
   ]
  },
  {
   "cell_type": "code",
   "execution_count": 5,
   "metadata": {},
   "outputs": [
    {
     "data": {
      "text/html": [
       "<div>\n",
       "<style scoped>\n",
       "    .dataframe tbody tr th:only-of-type {\n",
       "        vertical-align: middle;\n",
       "    }\n",
       "\n",
       "    .dataframe tbody tr th {\n",
       "        vertical-align: top;\n",
       "    }\n",
       "\n",
       "    .dataframe thead th {\n",
       "        text-align: right;\n",
       "    }\n",
       "</style>\n",
       "<table border=\"1\" class=\"dataframe\">\n",
       "  <thead>\n",
       "    <tr style=\"text-align: right;\">\n",
       "      <th></th>\n",
       "      <th>Format</th>\n",
       "      <th>Metric</th>\n",
       "      <th>Year</th>\n",
       "      <th>Actual_Value</th>\n",
       "      <th>Mode</th>\n",
       "    </tr>\n",
       "  </thead>\n",
       "  <tbody>\n",
       "    <tr>\n",
       "      <th>0</th>\n",
       "      <td>CD</td>\n",
       "      <td>Units</td>\n",
       "      <td>1983</td>\n",
       "      <td>0.800000</td>\n",
       "      <td>Digital</td>\n",
       "    </tr>\n",
       "    <tr>\n",
       "      <th>1</th>\n",
       "      <td>CD</td>\n",
       "      <td>Units</td>\n",
       "      <td>1984</td>\n",
       "      <td>5.800000</td>\n",
       "      <td>Digital</td>\n",
       "    </tr>\n",
       "    <tr>\n",
       "      <th>2</th>\n",
       "      <td>CD</td>\n",
       "      <td>Units</td>\n",
       "      <td>1985</td>\n",
       "      <td>22.600000</td>\n",
       "      <td>Digital</td>\n",
       "    </tr>\n",
       "    <tr>\n",
       "      <th>3</th>\n",
       "      <td>CD</td>\n",
       "      <td>Units</td>\n",
       "      <td>1986</td>\n",
       "      <td>53.000000</td>\n",
       "      <td>Digital</td>\n",
       "    </tr>\n",
       "    <tr>\n",
       "      <th>4</th>\n",
       "      <td>CD</td>\n",
       "      <td>Units</td>\n",
       "      <td>1987</td>\n",
       "      <td>102.100000</td>\n",
       "      <td>Digital</td>\n",
       "    </tr>\n",
       "    <tr>\n",
       "      <th>...</th>\n",
       "      <td>...</td>\n",
       "      <td>...</td>\n",
       "      <td>...</td>\n",
       "      <td>...</td>\n",
       "      <td>...</td>\n",
       "    </tr>\n",
       "    <tr>\n",
       "      <th>459</th>\n",
       "      <td>Paid Subscriptions</td>\n",
       "      <td>Units</td>\n",
       "      <td>2015</td>\n",
       "      <td>10.840000</td>\n",
       "      <td>Streaming</td>\n",
       "    </tr>\n",
       "    <tr>\n",
       "      <th>460</th>\n",
       "      <td>Paid Subscriptions</td>\n",
       "      <td>Units</td>\n",
       "      <td>2016</td>\n",
       "      <td>22.680000</td>\n",
       "      <td>Streaming</td>\n",
       "    </tr>\n",
       "    <tr>\n",
       "      <th>461</th>\n",
       "      <td>Paid Subscriptions</td>\n",
       "      <td>Units</td>\n",
       "      <td>2017</td>\n",
       "      <td>35.273501</td>\n",
       "      <td>Streaming</td>\n",
       "    </tr>\n",
       "    <tr>\n",
       "      <th>462</th>\n",
       "      <td>Paid Subscriptions</td>\n",
       "      <td>Units</td>\n",
       "      <td>2018</td>\n",
       "      <td>46.911323</td>\n",
       "      <td>Streaming</td>\n",
       "    </tr>\n",
       "    <tr>\n",
       "      <th>463</th>\n",
       "      <td>Paid Subscriptions</td>\n",
       "      <td>Units</td>\n",
       "      <td>2019</td>\n",
       "      <td>60.381948</td>\n",
       "      <td>Streaming</td>\n",
       "    </tr>\n",
       "  </tbody>\n",
       "</table>\n",
       "<p>464 rows × 5 columns</p>\n",
       "</div>"
      ],
      "text/plain": [
       "                 Format Metric  Year  Actual_Value       Mode\n",
       "0                    CD  Units  1983      0.800000    Digital\n",
       "1                    CD  Units  1984      5.800000    Digital\n",
       "2                    CD  Units  1985     22.600000    Digital\n",
       "3                    CD  Units  1986     53.000000    Digital\n",
       "4                    CD  Units  1987    102.100000    Digital\n",
       "..                  ...    ...   ...           ...        ...\n",
       "459  Paid Subscriptions  Units  2015     10.840000  Streaming\n",
       "460  Paid Subscriptions  Units  2016     22.680000  Streaming\n",
       "461  Paid Subscriptions  Units  2017     35.273501  Streaming\n",
       "462  Paid Subscriptions  Units  2018     46.911323  Streaming\n",
       "463  Paid Subscriptions  Units  2019     60.381948  Streaming\n",
       "\n",
       "[464 rows x 5 columns]"
      ]
     },
     "execution_count": 5,
     "metadata": {},
     "output_type": "execute_result"
    }
   ],
   "source": [
    "volume_df"
   ]
  },
  {
   "cell_type": "code",
   "execution_count": 6,
   "metadata": {},
   "outputs": [
    {
     "data": {
      "text/plain": [
       "array(['Units'], dtype=object)"
      ]
     },
     "execution_count": 6,
     "metadata": {},
     "output_type": "execute_result"
    }
   ],
   "source": [
    "volume_df['Metric'].unique()"
   ]
  },
  {
   "cell_type": "markdown",
   "metadata": {},
   "source": [
    "#### Just double checking everything is in terms of 'Units' in the volume data frame."
   ]
  },
  {
   "cell_type": "code",
   "execution_count": 7,
   "metadata": {},
   "outputs": [
    {
     "data": {
      "text/plain": [
       "array(['CD', 'CD Single', 'Cassette', 'Cassette Single', 'LP/EP',\n",
       "       'Vinyl Single', '8 - Track', 'Other Tapes',\n",
       "       'Music Video (Physical)', 'DVD Audio', 'SACD', 'Download Single',\n",
       "       'Download Album', 'Kiosk', 'Download Music Video',\n",
       "       'Ringtones & Ringbacks', 'Paid Subscriptions'], dtype=object)"
      ]
     },
     "execution_count": 7,
     "metadata": {},
     "output_type": "execute_result"
    }
   ],
   "source": [
    "volume_df['Format'].unique()"
   ]
  },
  {
   "cell_type": "markdown",
   "metadata": {},
   "source": [
    "#### First we'll see how sales volume has changed throughout the years with a visual"
   ]
  },
  {
   "cell_type": "code",
   "execution_count": 8,
   "metadata": {},
   "outputs": [],
   "source": [
    "volume_df = volume_df.astype({\"Year\":'str'})"
   ]
  },
  {
   "cell_type": "code",
   "execution_count": 9,
   "metadata": {},
   "outputs": [],
   "source": [
    "volume_by_year = volume_df.groupby(['Year','Metric'])['Actual_Value'].sum()"
   ]
  },
  {
   "cell_type": "code",
   "execution_count": 10,
   "metadata": {},
   "outputs": [
    {
     "data": {
      "text/plain": [
       "<AxesSubplot:title={'center':'U.S. Recorded Music Sales Volumes'}, xlabel='Year', ylabel='Units (Millions)'>"
      ]
     },
     "execution_count": 10,
     "metadata": {},
     "output_type": "execute_result"
    },
    {
     "data": {
      "image/png": "[encoded data removed]",
      "text/plain": [
       "<Figure size 864x576 with 1 Axes>"
      ]
     },
     "metadata": {
      "needs_background": "light"
     },
     "output_type": "display_data"
    }
   ],
   "source": [
    "volume_by_year.unstack().plot(yticks=(0,200,400,600,800,1000,1200,1400,1600,1800,2000), figsize=(12,8),\n",
    "                             title=(\"U.S. Recorded Music Sales Volumes\"),ylabel=(\"Units (Millions)\"),\n",
    "                              xlabel=(\"Year\"))\n"
   ]
  },
  {
   "cell_type": "code",
   "execution_count": 11,
   "metadata": {},
   "outputs": [
    {
     "data": {
      "text/plain": [
       "array(['1983', '1984', '1985', '1986', '1987', '1988', '1989', '1990',\n",
       "       '1991', '1992', '1993', '1994', '1995', '1996', '1997', '1998',\n",
       "       '1999', '2000', '2001', '2002', '2003', '2004', '2005', '2006',\n",
       "       '2007', '2008', '2009', '2010', '2011', '2012', '2013', '2014',\n",
       "       '2015', '2016', '2017', '2018', '2019', '1973', '1974', '1975',\n",
       "       '1976', '1977', '1978', '1979', '1980', '1981', '1982'],\n",
       "      dtype=object)"
      ]
     },
     "execution_count": 11,
     "metadata": {},
     "output_type": "execute_result"
    }
   ],
   "source": [
    "volume_df['Year'].unique()"
   ]
  },
  {
   "cell_type": "code",
   "execution_count": 12,
   "metadata": {},
   "outputs": [
    {
     "data": {
      "text/plain": [
       "[Text(0, 0, '1973'),\n",
       " Text(1, 0, '1974'),\n",
       " Text(2, 0, '1975'),\n",
       " Text(3, 0, '1976'),\n",
       " Text(4, 0, '1977'),\n",
       " Text(5, 0, '1978'),\n",
       " Text(6, 0, '1979'),\n",
       " Text(7, 0, '1980'),\n",
       " Text(8, 0, '1981'),\n",
       " Text(9, 0, '1982'),\n",
       " Text(10, 0, '1983'),\n",
       " Text(11, 0, '1984'),\n",
       " Text(12, 0, '1985'),\n",
       " Text(13, 0, '1986'),\n",
       " Text(14, 0, '1987'),\n",
       " Text(15, 0, '1988'),\n",
       " Text(16, 0, '1989'),\n",
       " Text(17, 0, '1990'),\n",
       " Text(18, 0, '1991'),\n",
       " Text(19, 0, '1992'),\n",
       " Text(20, 0, '1993'),\n",
       " Text(21, 0, '1994'),\n",
       " Text(22, 0, '1995'),\n",
       " Text(23, 0, '1996'),\n",
       " Text(24, 0, '1997'),\n",
       " Text(25, 0, '1998'),\n",
       " Text(26, 0, '1999'),\n",
       " Text(27, 0, '2000'),\n",
       " Text(28, 0, '2001'),\n",
       " Text(29, 0, '2002'),\n",
       " Text(30, 0, '2003'),\n",
       " Text(31, 0, '2004'),\n",
       " Text(32, 0, '2005'),\n",
       " Text(33, 0, '2006'),\n",
       " Text(34, 0, '2007'),\n",
       " Text(35, 0, '2008'),\n",
       " Text(36, 0, '2009'),\n",
       " Text(37, 0, '2010'),\n",
       " Text(38, 0, '2011'),\n",
       " Text(39, 0, '2012'),\n",
       " Text(40, 0, '2013'),\n",
       " Text(41, 0, '2014'),\n",
       " Text(42, 0, '2015'),\n",
       " Text(43, 0, '2016'),\n",
       " Text(44, 0, '2017'),\n",
       " Text(45, 0, '2018'),\n",
       " Text(46, 0, '2019')]"
      ]
     },
     "execution_count": 12,
     "metadata": {},
     "output_type": "execute_result"
    },
    {
     "data": {
      "image/png": "[encoded data removed]",
      "text/plain": [
       "<Figure size 864x576 with 1 Axes>"
      ]
     },
     "metadata": {
      "needs_background": "light"
     },
     "output_type": "display_data"
    }
   ],
   "source": [
    "ax = volume_by_year.plot(kind='bar',figsize=(12,8),title=(\"U.S. Recorded Music Sales Volumes\"),\n",
    "                         ylabel=(\"Units (Millions)\"),xlabel=(\"Year\"))\n",
    "\n",
    "ax.set_xticklabels(['1973', '1974', '1975', '1976', '1977', '1978', '1979', '1980',\n",
    "       '1981', '1982', '1983', '1984', '1985', '1986', '1987', '1988',\n",
    "       '1989', '1990', '1991', '1992', '1993', '1994', '1995', '1996',\n",
    "       '1997', '1998', '1999', '2000', '2001', '2002', '2003', '2004',\n",
    "       '2005', '2006', '2007', '2008', '2009', '2010', '2011', '2012',\n",
    "       '2013', '2014', '2015', '2016', '2017', '2018', '2019'])"
   ]
  },
  {
   "cell_type": "markdown",
   "metadata": {},
   "source": [
    "#### The plot makes it easy to visualize trends throughout the years, whereas the bar graph makes it easier to see how Units Sold (Volume) has actually changed throughout the years."
   ]
  },
  {
   "cell_type": "code",
   "execution_count": 13,
   "metadata": {},
   "outputs": [],
   "source": [
    "digital_df = volume_df[volume_df['Mode']=='Digital']"
   ]
  },
  {
   "cell_type": "code",
   "execution_count": 14,
   "metadata": {},
   "outputs": [
    {
     "data": {
      "text/html": [
       "<div>\n",
       "<style scoped>\n",
       "    .dataframe tbody tr th:only-of-type {\n",
       "        vertical-align: middle;\n",
       "    }\n",
       "\n",
       "    .dataframe tbody tr th {\n",
       "        vertical-align: top;\n",
       "    }\n",
       "\n",
       "    .dataframe thead th {\n",
       "        text-align: right;\n",
       "    }\n",
       "</style>\n",
       "<table border=\"1\" class=\"dataframe\">\n",
       "  <thead>\n",
       "    <tr style=\"text-align: right;\">\n",
       "      <th></th>\n",
       "      <th>Format</th>\n",
       "      <th>Metric</th>\n",
       "      <th>Year</th>\n",
       "      <th>Actual_Value</th>\n",
       "      <th>Mode</th>\n",
       "    </tr>\n",
       "  </thead>\n",
       "  <tbody>\n",
       "    <tr>\n",
       "      <th>0</th>\n",
       "      <td>CD</td>\n",
       "      <td>Units</td>\n",
       "      <td>1983</td>\n",
       "      <td>0.8</td>\n",
       "      <td>Digital</td>\n",
       "    </tr>\n",
       "    <tr>\n",
       "      <th>1</th>\n",
       "      <td>CD</td>\n",
       "      <td>Units</td>\n",
       "      <td>1984</td>\n",
       "      <td>5.8</td>\n",
       "      <td>Digital</td>\n",
       "    </tr>\n",
       "    <tr>\n",
       "      <th>2</th>\n",
       "      <td>CD</td>\n",
       "      <td>Units</td>\n",
       "      <td>1985</td>\n",
       "      <td>22.6</td>\n",
       "      <td>Digital</td>\n",
       "    </tr>\n",
       "    <tr>\n",
       "      <th>3</th>\n",
       "      <td>CD</td>\n",
       "      <td>Units</td>\n",
       "      <td>1986</td>\n",
       "      <td>53.0</td>\n",
       "      <td>Digital</td>\n",
       "    </tr>\n",
       "    <tr>\n",
       "      <th>4</th>\n",
       "      <td>CD</td>\n",
       "      <td>Units</td>\n",
       "      <td>1987</td>\n",
       "      <td>102.1</td>\n",
       "      <td>Digital</td>\n",
       "    </tr>\n",
       "  </tbody>\n",
       "</table>\n",
       "</div>"
      ],
      "text/plain": [
       "  Format Metric  Year  Actual_Value     Mode\n",
       "0     CD  Units  1983           0.8  Digital\n",
       "1     CD  Units  1984           5.8  Digital\n",
       "2     CD  Units  1985          22.6  Digital\n",
       "3     CD  Units  1986          53.0  Digital\n",
       "4     CD  Units  1987         102.1  Digital"
      ]
     },
     "execution_count": 14,
     "metadata": {},
     "output_type": "execute_result"
    }
   ],
   "source": [
    "digital_df.head(5)"
   ]
  },
  {
   "cell_type": "code",
   "execution_count": 15,
   "metadata": {},
   "outputs": [],
   "source": [
    "digital_downloads_df = volume_df[volume_df['Format']=='Download Album']"
   ]
  },
  {
   "cell_type": "code",
   "execution_count": 16,
   "metadata": {},
   "outputs": [
    {
     "data": {
      "text/html": [
       "<div>\n",
       "<style scoped>\n",
       "    .dataframe tbody tr th:only-of-type {\n",
       "        vertical-align: middle;\n",
       "    }\n",
       "\n",
       "    .dataframe tbody tr th {\n",
       "        vertical-align: top;\n",
       "    }\n",
       "\n",
       "    .dataframe thead th {\n",
       "        text-align: right;\n",
       "    }\n",
       "</style>\n",
       "<table border=\"1\" class=\"dataframe\">\n",
       "  <thead>\n",
       "    <tr style=\"text-align: right;\">\n",
       "      <th></th>\n",
       "      <th>Format</th>\n",
       "      <th>Metric</th>\n",
       "      <th>Year</th>\n",
       "      <th>Actual_Value</th>\n",
       "      <th>Mode</th>\n",
       "    </tr>\n",
       "  </thead>\n",
       "  <tbody>\n",
       "    <tr>\n",
       "      <th>388</th>\n",
       "      <td>Download Album</td>\n",
       "      <td>Units</td>\n",
       "      <td>2004</td>\n",
       "      <td>4.6</td>\n",
       "      <td>Digital</td>\n",
       "    </tr>\n",
       "    <tr>\n",
       "      <th>389</th>\n",
       "      <td>Download Album</td>\n",
       "      <td>Units</td>\n",
       "      <td>2005</td>\n",
       "      <td>13.6</td>\n",
       "      <td>Digital</td>\n",
       "    </tr>\n",
       "    <tr>\n",
       "      <th>390</th>\n",
       "      <td>Download Album</td>\n",
       "      <td>Units</td>\n",
       "      <td>2006</td>\n",
       "      <td>27.6</td>\n",
       "      <td>Digital</td>\n",
       "    </tr>\n",
       "    <tr>\n",
       "      <th>391</th>\n",
       "      <td>Download Album</td>\n",
       "      <td>Units</td>\n",
       "      <td>2007</td>\n",
       "      <td>49.8</td>\n",
       "      <td>Digital</td>\n",
       "    </tr>\n",
       "    <tr>\n",
       "      <th>392</th>\n",
       "      <td>Download Album</td>\n",
       "      <td>Units</td>\n",
       "      <td>2008</td>\n",
       "      <td>63.6</td>\n",
       "      <td>Digital</td>\n",
       "    </tr>\n",
       "  </tbody>\n",
       "</table>\n",
       "</div>"
      ],
      "text/plain": [
       "             Format Metric  Year  Actual_Value     Mode\n",
       "388  Download Album  Units  2004           4.6  Digital\n",
       "389  Download Album  Units  2005          13.6  Digital\n",
       "390  Download Album  Units  2006          27.6  Digital\n",
       "391  Download Album  Units  2007          49.8  Digital\n",
       "392  Download Album  Units  2008          63.6  Digital"
      ]
     },
     "execution_count": 16,
     "metadata": {},
     "output_type": "execute_result"
    }
   ],
   "source": [
    "digital_downloads_df.head(5)"
   ]
  },
  {
   "cell_type": "code",
   "execution_count": 17,
   "metadata": {},
   "outputs": [],
   "source": [
    "digital_single_df = volume_df[volume_df['Format']==\"Download Single\"]"
   ]
  },
  {
   "cell_type": "code",
   "execution_count": 18,
   "metadata": {},
   "outputs": [
    {
     "data": {
      "text/html": [
       "<div>\n",
       "<style scoped>\n",
       "    .dataframe tbody tr th:only-of-type {\n",
       "        vertical-align: middle;\n",
       "    }\n",
       "\n",
       "    .dataframe tbody tr th {\n",
       "        vertical-align: top;\n",
       "    }\n",
       "\n",
       "    .dataframe thead th {\n",
       "        text-align: right;\n",
       "    }\n",
       "</style>\n",
       "<table border=\"1\" class=\"dataframe\">\n",
       "  <thead>\n",
       "    <tr style=\"text-align: right;\">\n",
       "      <th></th>\n",
       "      <th>Format</th>\n",
       "      <th>Metric</th>\n",
       "      <th>Year</th>\n",
       "      <th>Actual_Value</th>\n",
       "      <th>Mode</th>\n",
       "    </tr>\n",
       "  </thead>\n",
       "  <tbody>\n",
       "    <tr>\n",
       "      <th>372</th>\n",
       "      <td>Download Single</td>\n",
       "      <td>Units</td>\n",
       "      <td>2004</td>\n",
       "      <td>139.4</td>\n",
       "      <td>Digital</td>\n",
       "    </tr>\n",
       "    <tr>\n",
       "      <th>373</th>\n",
       "      <td>Download Single</td>\n",
       "      <td>Units</td>\n",
       "      <td>2005</td>\n",
       "      <td>366.9</td>\n",
       "      <td>Digital</td>\n",
       "    </tr>\n",
       "    <tr>\n",
       "      <th>374</th>\n",
       "      <td>Download Single</td>\n",
       "      <td>Units</td>\n",
       "      <td>2006</td>\n",
       "      <td>586.4</td>\n",
       "      <td>Digital</td>\n",
       "    </tr>\n",
       "    <tr>\n",
       "      <th>375</th>\n",
       "      <td>Download Single</td>\n",
       "      <td>Units</td>\n",
       "      <td>2007</td>\n",
       "      <td>819.4</td>\n",
       "      <td>Digital</td>\n",
       "    </tr>\n",
       "    <tr>\n",
       "      <th>376</th>\n",
       "      <td>Download Single</td>\n",
       "      <td>Units</td>\n",
       "      <td>2008</td>\n",
       "      <td>1042.7</td>\n",
       "      <td>Digital</td>\n",
       "    </tr>\n",
       "  </tbody>\n",
       "</table>\n",
       "</div>"
      ],
      "text/plain": [
       "              Format Metric  Year  Actual_Value     Mode\n",
       "372  Download Single  Units  2004         139.4  Digital\n",
       "373  Download Single  Units  2005         366.9  Digital\n",
       "374  Download Single  Units  2006         586.4  Digital\n",
       "375  Download Single  Units  2007         819.4  Digital\n",
       "376  Download Single  Units  2008        1042.7  Digital"
      ]
     },
     "execution_count": 18,
     "metadata": {},
     "output_type": "execute_result"
    }
   ],
   "source": [
    "digital_single_df.head(5)"
   ]
  },
  {
   "cell_type": "markdown",
   "metadata": {},
   "source": [
    "Just wanted to see when Digital formats were introduced."
   ]
  },
  {
   "cell_type": "markdown",
   "metadata": {},
   "source": [
    "#### By the digital data frame it is clear that Digital was introduced in 1983. Seeing the plots above, we can see that once digital CDs were introduced in 1983, sales volume began to rise. Sales were at their highest in the early 2000s, which is when digital downloads became popular and music became more accessible. Volume began to steadily decline in the 2010s, likely due to the rising popularity of streaming services (and perhaps other issues such as piracy which became easier with digital downloads). In 2019, sales volume was at the lowest it has ever been since 1973.\n",
    "\n",
    "#### Now, we will look at how sales volume has changed based on Mode: Digital, Analog, or Streaming. Streaming should be relatively insignificant in this df as a lot of streaming isn't considered in sales volume. "
   ]
  },
  {
   "cell_type": "code",
   "execution_count": 19,
   "metadata": {},
   "outputs": [],
   "source": [
    "volume_by_mode = volume_df.groupby(['Year','Mode'])['Actual_Value'].sum()"
   ]
  },
  {
   "cell_type": "code",
   "execution_count": 20,
   "metadata": {},
   "outputs": [
    {
     "data": {
      "text/plain": [
       "<AxesSubplot:title={'center':'U.S. Recorded Music Sales Volumes by Mode'}, xlabel='Year', ylabel='Units (Millions)'>"
      ]
     },
     "execution_count": 20,
     "metadata": {},
     "output_type": "execute_result"
    },
    {
     "data": {
      "image/png": "[encoded data removed]",
      "text/plain": [
       "<Figure size 864x576 with 1 Axes>"
      ]
     },
     "metadata": {
      "needs_background": "light"
     },
     "output_type": "display_data"
    }
   ],
   "source": [
    "volume_by_mode.unstack().plot(yticks=(0,200,400,600,800,1000,1200,1400,1600,1800,2000), figsize=(12,8),\n",
    "                             title=(\"U.S. Recorded Music Sales Volumes by Mode\"), ylabel=(\"Units (Millions)\"))\n"
   ]
  },
  {
   "cell_type": "markdown",
   "metadata": {},
   "source": [
    "## With the plot above, we can see that digital is what caused a rise in volume sales, which spiked even more with the availability of digital downloads. This is presumably because music became easily available to people. However, sales have been dropping as streaming becomes the norm rather than digital downloads."
   ]
  }
 ],
 "metadata": {
  "kernelspec": {
   "display_name": "Python 3",
   "language": "python",
   "name": "python3"
  },
  "language_info": {
   "codemirror_mode": {
    "name": "ipython",
    "version": 3
   },
   "file_extension": ".py",
   "mimetype": "text/x-python",
   "name": "python",
   "nbconvert_exporter": "python",
   "pygments_lexer": "ipython3",
   "version": "3.7.3"
  }
 },
 "nbformat": 4,
 "nbformat_minor": 2
}
