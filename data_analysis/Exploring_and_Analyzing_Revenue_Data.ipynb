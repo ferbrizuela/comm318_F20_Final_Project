{
 "cells": [
  {
   "cell_type": "code",
   "execution_count": 1,
   "metadata": {},
   "outputs": [],
   "source": [
    "import pandas as pd\n",
    "import matplotlib.pyplot as plt\n",
    "import warnings \n",
    "warnings.filterwarnings('ignore')"
   ]
  },
  {
   "cell_type": "code",
   "execution_count": 2,
   "metadata": {},
   "outputs": [],
   "source": [
    "music_sales_df = pd.read_csv('../data/Usable_Data/Usable_Music_Sales_Data.csv')"
   ]
  },
  {
   "cell_type": "markdown",
   "metadata": {},
   "source": [
    "## Exploring and Analyzing Revenue data. \n",
    "\n",
    "In this notebook, I will create a filter to only Analyze data that pertains to music sales in terms of _revenue_. I will create visuals to look at revenue trends from 1973 to 2019. I will also look at these trends in terms of \"Mode\", so looking at revenues specifically from formats that are Analog, Digital, and Streaming."
   ]
  },
  {
   "cell_type": "code",
   "execution_count": 3,
   "metadata": {},
   "outputs": [
    {
     "data": {
      "text/plain": [
       "(900, 5)"
      ]
     },
     "execution_count": 3,
     "metadata": {},
     "output_type": "execute_result"
    }
   ],
   "source": [
    "music_sales_df.shape"
   ]
  },
  {
   "cell_type": "markdown",
   "metadata": {},
   "source": [
    "#### For sales revenue, we will have to look into the data of 'Value (Adjusted)' under the Metric column. This value is adjusted for inflation."
   ]
  },
  {
   "cell_type": "code",
   "execution_count": 4,
   "metadata": {},
   "outputs": [],
   "source": [
    "revenue_df = music_sales_df[music_sales_df['Metric']=='Value (Adjusted)']"
   ]
  },
  {
   "cell_type": "code",
   "execution_count": 5,
   "metadata": {},
   "outputs": [
    {
     "data": {
      "text/html": [
       "<div>\n",
       "<style scoped>\n",
       "    .dataframe tbody tr th:only-of-type {\n",
       "        vertical-align: middle;\n",
       "    }\n",
       "\n",
       "    .dataframe tbody tr th {\n",
       "        vertical-align: top;\n",
       "    }\n",
       "\n",
       "    .dataframe thead th {\n",
       "        text-align: right;\n",
       "    }\n",
       "</style>\n",
       "<table border=\"1\" class=\"dataframe\">\n",
       "  <thead>\n",
       "    <tr style=\"text-align: right;\">\n",
       "      <th></th>\n",
       "      <th>Format</th>\n",
       "      <th>Metric</th>\n",
       "      <th>Year</th>\n",
       "      <th>Actual_Value</th>\n",
       "      <th>Mode</th>\n",
       "    </tr>\n",
       "  </thead>\n",
       "  <tbody>\n",
       "    <tr>\n",
       "      <th>464</th>\n",
       "      <td>8 - Track</td>\n",
       "      <td>Value (Adjusted)</td>\n",
       "      <td>1973</td>\n",
       "      <td>2815.681824</td>\n",
       "      <td>Analog</td>\n",
       "    </tr>\n",
       "    <tr>\n",
       "      <th>465</th>\n",
       "      <td>8 - Track</td>\n",
       "      <td>Value (Adjusted)</td>\n",
       "      <td>1974</td>\n",
       "      <td>2848.008609</td>\n",
       "      <td>Analog</td>\n",
       "    </tr>\n",
       "    <tr>\n",
       "      <th>466</th>\n",
       "      <td>8 - Track</td>\n",
       "      <td>Value (Adjusted)</td>\n",
       "      <td>1975</td>\n",
       "      <td>2770.409498</td>\n",
       "      <td>Analog</td>\n",
       "    </tr>\n",
       "    <tr>\n",
       "      <th>467</th>\n",
       "      <td>8 - Track</td>\n",
       "      <td>Value (Adjusted)</td>\n",
       "      <td>1976</td>\n",
       "      <td>3047.215772</td>\n",
       "      <td>Analog</td>\n",
       "    </tr>\n",
       "    <tr>\n",
       "      <th>468</th>\n",
       "      <td>8 - Track</td>\n",
       "      <td>Value (Adjusted)</td>\n",
       "      <td>1977</td>\n",
       "      <td>3421.416287</td>\n",
       "      <td>Analog</td>\n",
       "    </tr>\n",
       "    <tr>\n",
       "      <th>...</th>\n",
       "      <td>...</td>\n",
       "      <td>...</td>\n",
       "      <td>...</td>\n",
       "      <td>...</td>\n",
       "      <td>...</td>\n",
       "    </tr>\n",
       "    <tr>\n",
       "      <th>895</th>\n",
       "      <td>Vinyl Single</td>\n",
       "      <td>Value (Adjusted)</td>\n",
       "      <td>2015</td>\n",
       "      <td>6.205390</td>\n",
       "      <td>Analog</td>\n",
       "    </tr>\n",
       "    <tr>\n",
       "      <th>896</th>\n",
       "      <td>Vinyl Single</td>\n",
       "      <td>Value (Adjusted)</td>\n",
       "      <td>2016</td>\n",
       "      <td>5.198931</td>\n",
       "      <td>Analog</td>\n",
       "    </tr>\n",
       "    <tr>\n",
       "      <th>897</th>\n",
       "      <td>Vinyl Single</td>\n",
       "      <td>Value (Adjusted)</td>\n",
       "      <td>2017</td>\n",
       "      <td>6.339678</td>\n",
       "      <td>Analog</td>\n",
       "    </tr>\n",
       "    <tr>\n",
       "      <th>898</th>\n",
       "      <td>Vinyl Single</td>\n",
       "      <td>Value (Adjusted)</td>\n",
       "      <td>2018</td>\n",
       "      <td>5.386197</td>\n",
       "      <td>Analog</td>\n",
       "    </tr>\n",
       "    <tr>\n",
       "      <th>899</th>\n",
       "      <td>Vinyl Single</td>\n",
       "      <td>Value (Adjusted)</td>\n",
       "      <td>2019</td>\n",
       "      <td>6.795946</td>\n",
       "      <td>Analog</td>\n",
       "    </tr>\n",
       "  </tbody>\n",
       "</table>\n",
       "<p>436 rows × 5 columns</p>\n",
       "</div>"
      ],
      "text/plain": [
       "           Format            Metric  Year  Actual_Value    Mode\n",
       "464     8 - Track  Value (Adjusted)  1973   2815.681824  Analog\n",
       "465     8 - Track  Value (Adjusted)  1974   2848.008609  Analog\n",
       "466     8 - Track  Value (Adjusted)  1975   2770.409498  Analog\n",
       "467     8 - Track  Value (Adjusted)  1976   3047.215772  Analog\n",
       "468     8 - Track  Value (Adjusted)  1977   3421.416287  Analog\n",
       "..            ...               ...   ...           ...     ...\n",
       "895  Vinyl Single  Value (Adjusted)  2015      6.205390  Analog\n",
       "896  Vinyl Single  Value (Adjusted)  2016      5.198931  Analog\n",
       "897  Vinyl Single  Value (Adjusted)  2017      6.339678  Analog\n",
       "898  Vinyl Single  Value (Adjusted)  2018      5.386197  Analog\n",
       "899  Vinyl Single  Value (Adjusted)  2019      6.795946  Analog\n",
       "\n",
       "[436 rows x 5 columns]"
      ]
     },
     "execution_count": 5,
     "metadata": {},
     "output_type": "execute_result"
    }
   ],
   "source": [
    "revenue_df"
   ]
  },
  {
   "cell_type": "code",
   "execution_count": 6,
   "metadata": {},
   "outputs": [
    {
     "data": {
      "text/plain": [
       "array(['8 - Track', 'CD', 'CD Single', 'Cassette', 'Cassette Single',\n",
       "       'DVD Audio', 'Download Album', 'Download Music Video',\n",
       "       'Download Single', 'Kiosk', 'LP/EP',\n",
       "       'Limited Tier Paid Subscription', 'Music Video (Physical)',\n",
       "       'On-Demand Streaming (Ad-Supported)',\n",
       "       'Other Ad-Supported Streaming', 'Other Digital', 'Other Tapes',\n",
       "       'Paid Subscription', 'Ringtones & Ringbacks', 'SACD',\n",
       "       'SoundExchange Distributions', 'Synchronization', 'Vinyl Single'],\n",
       "      dtype=object)"
      ]
     },
     "execution_count": 6,
     "metadata": {},
     "output_type": "execute_result"
    }
   ],
   "source": [
    "revenue_df['Format'].unique()"
   ]
  },
  {
   "cell_type": "code",
   "execution_count": 7,
   "metadata": {},
   "outputs": [
    {
     "data": {
      "text/plain": [
       "array(['Value (Adjusted)'], dtype=object)"
      ]
     },
     "execution_count": 7,
     "metadata": {},
     "output_type": "execute_result"
    }
   ],
   "source": [
    "revenue_df['Metric'].unique()"
   ]
  },
  {
   "cell_type": "markdown",
   "metadata": {},
   "source": [
    "#### As with volume, we will look into how sales in revenue have changed throughout the years."
   ]
  },
  {
   "cell_type": "code",
   "execution_count": 8,
   "metadata": {},
   "outputs": [],
   "source": [
    "revenue_df = revenue_df.astype({\"Year\":'str'})"
   ]
  },
  {
   "cell_type": "code",
   "execution_count": 9,
   "metadata": {},
   "outputs": [],
   "source": [
    "revenue_by_year = revenue_df.groupby(['Year','Metric'])['Actual_Value'].sum()"
   ]
  },
  {
   "cell_type": "code",
   "execution_count": 10,
   "metadata": {},
   "outputs": [
    {
     "data": {
      "text/plain": [
       "<AxesSubplot:title={'center':'U.S. Recorded Music Revenues (Adjusted for Inflation)'}, xlabel='Year', ylabel='$ (Millions)'>"
      ]
     },
     "execution_count": 10,
     "metadata": {},
     "output_type": "execute_result"
    },
    {
     "data": {
      "image/png": "[encoded data removed]",
      "text/plain": [
       "<Figure size 864x576 with 1 Axes>"
      ]
     },
     "metadata": {
      "needs_background": "light"
     },
     "output_type": "display_data"
    }
   ],
   "source": [
    "revenue_by_year.unstack().plot(figsize=(12,8), title=(\"U.S. Recorded Music Revenues (Adjusted for Inflation)\"),\n",
    "                              ylabel=(\"$ (Millions)\"))"
   ]
  },
  {
   "cell_type": "code",
   "execution_count": 11,
   "metadata": {},
   "outputs": [
    {
     "data": {
      "text/plain": [
       "array(['1973', '1974', '1975', '1976', '1977', '1978', '1979', '1980',\n",
       "       '1981', '1982', '1983', '1984', '1985', '1986', '1987', '1988',\n",
       "       '1989', '1990', '1991', '1992', '1993', '1994', '1995', '1996',\n",
       "       '1997', '1998', '1999', '2000', '2001', '2002', '2003', '2004',\n",
       "       '2005', '2006', '2007', '2008', '2009', '2010', '2011', '2012',\n",
       "       '2013', '2014', '2015', '2016', '2017', '2018', '2019'],\n",
       "      dtype=object)"
      ]
     },
     "execution_count": 11,
     "metadata": {},
     "output_type": "execute_result"
    }
   ],
   "source": [
    "revenue_df['Year'].unique()"
   ]
  },
  {
   "cell_type": "code",
   "execution_count": 12,
   "metadata": {},
   "outputs": [
    {
     "data": {
      "text/plain": [
       "[Text(0, 0, '1973'),\n",
       " Text(1, 0, '1974'),\n",
       " Text(2, 0, '1975'),\n",
       " Text(3, 0, '1976'),\n",
       " Text(4, 0, '1977'),\n",
       " Text(5, 0, '1978'),\n",
       " Text(6, 0, '1979'),\n",
       " Text(7, 0, '1980'),\n",
       " Text(8, 0, '1981'),\n",
       " Text(9, 0, '1982'),\n",
       " Text(10, 0, '1983'),\n",
       " Text(11, 0, '1984'),\n",
       " Text(12, 0, '1985'),\n",
       " Text(13, 0, '1986'),\n",
       " Text(14, 0, '1987'),\n",
       " Text(15, 0, '1988'),\n",
       " Text(16, 0, '1989'),\n",
       " Text(17, 0, '1990'),\n",
       " Text(18, 0, '1991'),\n",
       " Text(19, 0, '1992'),\n",
       " Text(20, 0, '1993'),\n",
       " Text(21, 0, '1994'),\n",
       " Text(22, 0, '1995'),\n",
       " Text(23, 0, '1996'),\n",
       " Text(24, 0, '1997'),\n",
       " Text(25, 0, '1998'),\n",
       " Text(26, 0, '1999'),\n",
       " Text(27, 0, '2000'),\n",
       " Text(28, 0, '2001'),\n",
       " Text(29, 0, '2002'),\n",
       " Text(30, 0, '2003'),\n",
       " Text(31, 0, '2004'),\n",
       " Text(32, 0, '2005'),\n",
       " Text(33, 0, '2006'),\n",
       " Text(34, 0, '2007'),\n",
       " Text(35, 0, '2008'),\n",
       " Text(36, 0, '2009'),\n",
       " Text(37, 0, '2010'),\n",
       " Text(38, 0, '2011'),\n",
       " Text(39, 0, '2012'),\n",
       " Text(40, 0, '2013'),\n",
       " Text(41, 0, '2014'),\n",
       " Text(42, 0, '2015'),\n",
       " Text(43, 0, '2016'),\n",
       " Text(44, 0, '2017'),\n",
       " Text(45, 0, '2018'),\n",
       " Text(46, 0, '2019')]"
      ]
     },
     "execution_count": 12,
     "metadata": {},
     "output_type": "execute_result"
    },
    {
     "data": {
      "image/png": "[encoded data removed]",
      "text/plain": [
       "<Figure size 864x576 with 1 Axes>"
      ]
     },
     "metadata": {
      "needs_background": "light"
     },
     "output_type": "display_data"
    }
   ],
   "source": [
    "ax = revenue_by_year.plot(kind='bar',figsize=(12,8), title=(\"U.S. Recorded Music Revenues (Adjusted for Inflation)\"),\n",
    "                              ylabel=(\"$ (Millions)\"), xlabel=(\"Year\"), color=\"#228B22\")\n",
    "ax.set_xticklabels(['1973', '1974', '1975', '1976', '1977', '1978', '1979', '1980',\n",
    "       '1981', '1982', '1983', '1984', '1985', '1986', '1987', '1988',\n",
    "       '1989', '1990', '1991', '1992', '1993', '1994', '1995', '1996',\n",
    "       '1997', '1998', '1999', '2000', '2001', '2002', '2003', '2004',\n",
    "       '2005', '2006', '2007', '2008', '2009', '2010', '2011', '2012',\n",
    "       '2013', '2014', '2015', '2016', '2017', '2018', '2019'])"
   ]
  },
  {
   "cell_type": "code",
   "execution_count": 13,
   "metadata": {},
   "outputs": [],
   "source": [
    "digital_download_df = revenue_df[revenue_df['Format']=='Download Album']"
   ]
  },
  {
   "cell_type": "code",
   "execution_count": 14,
   "metadata": {},
   "outputs": [
    {
     "data": {
      "text/html": [
       "<div>\n",
       "<style scoped>\n",
       "    .dataframe tbody tr th:only-of-type {\n",
       "        vertical-align: middle;\n",
       "    }\n",
       "\n",
       "    .dataframe tbody tr th {\n",
       "        vertical-align: top;\n",
       "    }\n",
       "\n",
       "    .dataframe thead th {\n",
       "        text-align: right;\n",
       "    }\n",
       "</style>\n",
       "<table border=\"1\" class=\"dataframe\">\n",
       "  <thead>\n",
       "    <tr style=\"text-align: right;\">\n",
       "      <th></th>\n",
       "      <th>Format</th>\n",
       "      <th>Metric</th>\n",
       "      <th>Year</th>\n",
       "      <th>Actual_Value</th>\n",
       "      <th>Mode</th>\n",
       "    </tr>\n",
       "  </thead>\n",
       "  <tbody>\n",
       "    <tr>\n",
       "      <th>614</th>\n",
       "      <td>Download Album</td>\n",
       "      <td>Value (Adjusted)</td>\n",
       "      <td>2004</td>\n",
       "      <td>61.579637</td>\n",
       "      <td>Digital</td>\n",
       "    </tr>\n",
       "    <tr>\n",
       "      <th>615</th>\n",
       "      <td>Download Album</td>\n",
       "      <td>Value (Adjusted)</td>\n",
       "      <td>2005</td>\n",
       "      <td>177.637762</td>\n",
       "      <td>Digital</td>\n",
       "    </tr>\n",
       "    <tr>\n",
       "      <th>616</th>\n",
       "      <td>Download Album</td>\n",
       "      <td>Value (Adjusted)</td>\n",
       "      <td>2006</td>\n",
       "      <td>349.879793</td>\n",
       "      <td>Digital</td>\n",
       "    </tr>\n",
       "    <tr>\n",
       "      <th>617</th>\n",
       "      <td>Download Album</td>\n",
       "      <td>Value (Adjusted)</td>\n",
       "      <td>2007</td>\n",
       "      <td>613.428808</td>\n",
       "      <td>Digital</td>\n",
       "    </tr>\n",
       "    <tr>\n",
       "      <th>618</th>\n",
       "      <td>Download Album</td>\n",
       "      <td>Value (Adjusted)</td>\n",
       "      <td>2008</td>\n",
       "      <td>754.373567</td>\n",
       "      <td>Digital</td>\n",
       "    </tr>\n",
       "  </tbody>\n",
       "</table>\n",
       "</div>"
      ],
      "text/plain": [
       "             Format            Metric  Year  Actual_Value     Mode\n",
       "614  Download Album  Value (Adjusted)  2004     61.579637  Digital\n",
       "615  Download Album  Value (Adjusted)  2005    177.637762  Digital\n",
       "616  Download Album  Value (Adjusted)  2006    349.879793  Digital\n",
       "617  Download Album  Value (Adjusted)  2007    613.428808  Digital\n",
       "618  Download Album  Value (Adjusted)  2008    754.373567  Digital"
      ]
     },
     "execution_count": 14,
     "metadata": {},
     "output_type": "execute_result"
    }
   ],
   "source": [
    "digital_download_df.head(5)"
   ]
  },
  {
   "cell_type": "code",
   "execution_count": 15,
   "metadata": {},
   "outputs": [],
   "source": [
    "CD_sales_df = revenue_df[revenue_df['Format']=='CD']"
   ]
  },
  {
   "cell_type": "code",
   "execution_count": 16,
   "metadata": {},
   "outputs": [
    {
     "data": {
      "text/html": [
       "<div>\n",
       "<style scoped>\n",
       "    .dataframe tbody tr th:only-of-type {\n",
       "        vertical-align: middle;\n",
       "    }\n",
       "\n",
       "    .dataframe tbody tr th {\n",
       "        vertical-align: top;\n",
       "    }\n",
       "\n",
       "    .dataframe thead th {\n",
       "        text-align: right;\n",
       "    }\n",
       "</style>\n",
       "<table border=\"1\" class=\"dataframe\">\n",
       "  <thead>\n",
       "    <tr style=\"text-align: right;\">\n",
       "      <th></th>\n",
       "      <th>Format</th>\n",
       "      <th>Metric</th>\n",
       "      <th>Year</th>\n",
       "      <th>Actual_Value</th>\n",
       "      <th>Mode</th>\n",
       "    </tr>\n",
       "  </thead>\n",
       "  <tbody>\n",
       "    <tr>\n",
       "      <th>474</th>\n",
       "      <td>CD</td>\n",
       "      <td>Value (Adjusted)</td>\n",
       "      <td>1983</td>\n",
       "      <td>44.149602</td>\n",
       "      <td>Digital</td>\n",
       "    </tr>\n",
       "    <tr>\n",
       "      <th>475</th>\n",
       "      <td>CD</td>\n",
       "      <td>Value (Adjusted)</td>\n",
       "      <td>1984</td>\n",
       "      <td>254.180636</td>\n",
       "      <td>Digital</td>\n",
       "    </tr>\n",
       "    <tr>\n",
       "      <th>476</th>\n",
       "      <td>CD</td>\n",
       "      <td>Value (Adjusted)</td>\n",
       "      <td>1985</td>\n",
       "      <td>925.449828</td>\n",
       "      <td>Digital</td>\n",
       "    </tr>\n",
       "    <tr>\n",
       "      <th>477</th>\n",
       "      <td>CD</td>\n",
       "      <td>Value (Adjusted)</td>\n",
       "      <td>1986</td>\n",
       "      <td>2169.585545</td>\n",
       "      <td>Digital</td>\n",
       "    </tr>\n",
       "    <tr>\n",
       "      <th>478</th>\n",
       "      <td>CD</td>\n",
       "      <td>Value (Adjusted)</td>\n",
       "      <td>1987</td>\n",
       "      <td>3586.399606</td>\n",
       "      <td>Digital</td>\n",
       "    </tr>\n",
       "  </tbody>\n",
       "</table>\n",
       "</div>"
      ],
      "text/plain": [
       "    Format            Metric  Year  Actual_Value     Mode\n",
       "474     CD  Value (Adjusted)  1983     44.149602  Digital\n",
       "475     CD  Value (Adjusted)  1984    254.180636  Digital\n",
       "476     CD  Value (Adjusted)  1985    925.449828  Digital\n",
       "477     CD  Value (Adjusted)  1986   2169.585545  Digital\n",
       "478     CD  Value (Adjusted)  1987   3586.399606  Digital"
      ]
     },
     "execution_count": 16,
     "metadata": {},
     "output_type": "execute_result"
    }
   ],
   "source": [
    "CD_sales_df.head(5)"
   ]
  },
  {
   "cell_type": "markdown",
   "metadata": {},
   "source": [
    "## With the visual above, we can see that there have been dramatic changes to music sales revenue throughout the years. Revenues started increasing in the early 1980s, which is when CDs were introduced. Then, revenue began to fall in the early 2000s, when digital downloads became more prevalent. \n",
    "\n",
    "## This is interesting because the early 2000s is when sales _volume_ began to rise. This indicates that even though digital downloads made music more available to listeners, it made it less profitable to the music industry. However, revenue has been slowly increasing since 2015, presumably when streaming began to grow in popularity.\n",
    "\n",
    "## Now we will look at how revenues have changed based on Mode: digital, analog, and streaming. Streaming should have a greater impact in sales revenue than it had in sales volume."
   ]
  },
  {
   "cell_type": "code",
   "execution_count": 17,
   "metadata": {},
   "outputs": [],
   "source": [
    "revenue_by_mode = revenue_df.groupby(['Year','Mode'])['Actual_Value'].sum()"
   ]
  },
  {
   "cell_type": "code",
   "execution_count": 18,
   "metadata": {},
   "outputs": [
    {
     "data": {
      "text/plain": [
       "<AxesSubplot:title={'center':'U.S. Recorded Music Sales Revenues by Mode'}, xlabel='Year', ylabel='$ (Millions)'>"
      ]
     },
     "execution_count": 18,
     "metadata": {},
     "output_type": "execute_result"
    },
    {
     "data": {
      "image/png": "[encoded data removed]",
      "text/plain": [
       "<Figure size 864x576 with 1 Axes>"
      ]
     },
     "metadata": {
      "needs_background": "light"
     },
     "output_type": "display_data"
    }
   ],
   "source": [
    "revenue_by_mode.unstack().plot(figsize=(12,8), title=(\"U.S. Recorded Music Sales Revenues by Mode\"),\n",
    "                              ylabel=(\"$ (Millions)\"))"
   ]
  },
  {
   "cell_type": "markdown",
   "metadata": {},
   "source": [
    "## With this plot, we can see that digital contributed a lot to sales when the digital content was sold in physical formats (such as CDs). As soon as digital downloads became more prevalent, however, digital music's profitability dramatically decreased. The rising popularity of streaming has led to increases in revenue. After 2015, streaming is the mode that contributes most revenue to the music industry."
   ]
  }
 ],
 "metadata": {
  "kernelspec": {
   "display_name": "Python 3",
   "language": "python",
   "name": "python3"
  },
  "language_info": {
   "codemirror_mode": {
    "name": "ipython",
    "version": 3
   },
   "file_extension": ".py",
   "mimetype": "text/x-python",
   "name": "python",
   "nbconvert_exporter": "python",
   "pygments_lexer": "ipython3",
   "version": "3.7.3"
  }
 },
 "nbformat": 4,
 "nbformat_minor": 2
}
